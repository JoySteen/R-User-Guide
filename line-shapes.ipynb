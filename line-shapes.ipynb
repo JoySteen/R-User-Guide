{
 "metadata": {
  "name": "",
  "signature": "sha256:7fc200fb453b5a06b02bec680b479ed3d7514a57b64050f6186d570ff5d7292d"
 },
 "nbformat": 3,
 "nbformat_minor": 0,
 "worksheets": [
  {
   "cells": [
    {
     "cell_type": "heading",
     "level": 1,
     "metadata": {},
     "source": [
      "Line Shapes"
     ]
    },
    {
     "cell_type": "markdown",
     "metadata": {},
     "source": [
      "Plotly lets you plot lines with different shapes.  The default shape is 'linear' (connect one data point to the next, as you expect).  You may want to use steps (connect data points by stairs).  Then, the first segment is either horizontal ('h') or vertical ('v').  Alternatively, data points can be found in the middle of segments ('hvh' or 'vhv').  You can see all the available line shapes below:"
     ]
    },
    {
     "cell_type": "code",
     "collapsed": false,
     "input": [
      "library(IRdisplay)\n",
      "plotly_iframe <- function(url) {\n",
      "    # set width and height from options or default square\n",
      "    w <- \"600\"\n",
      "    h <- \"600\"\n",
      "    html <- paste(\"<iframe height=\\\"\", h, \"\\\" id=\\\"igraph\\\" scrolling=\\\"no\\\" seamless=\\\"seamless\\\"\\n\\t\\t\\t\\tsrc=\\\"\", \n",
      "        url, \"\\\" width=\\\"\", w, \"\\\" frameBorder=\\\"0\\\"></iframe>\", sep=\"\")\n",
      "    return(html)\n",
      "}\n",
      "display_html(plotly_iframe(\"https://plot.ly/~alex/315/new-line-shape-options/\"))"
     ],
     "language": "python",
     "metadata": {},
     "outputs": [
      {
       "html": [
        "<iframe height=\"600\" id=\"igraph\" scrolling=\"no\" seamless=\"seamless\"\n",
        "\t\t\t\tsrc=\"https://plot.ly/~alex/315/new-line-shape-options/\" width=\"600\" frameBorder=\"0\"></iframe>"
       ],
       "metadata": {},
       "output_type": "display_data"
      }
     ],
     "prompt_number": 16
    },
    {
     "cell_type": "markdown",
     "metadata": {},
     "source": [
      "In ggplot2, you plot stair-shaped lines using `geom_step`.  The shape attribute corresponds to parameter `direction`."
     ]
    },
    {
     "cell_type": "code",
     "collapsed": false,
     "input": [
      "# Consider this artificial data\n",
      "df <- data.frame(x=sort(rnorm(50)), trt=sample(c(\"a\", \"b\"), 50, rep=TRUE))"
     ],
     "language": "python",
     "metadata": {},
     "outputs": [],
     "prompt_number": 17
    },
    {
     "cell_type": "code",
     "collapsed": false,
     "input": [
      "# Plot in R with ggplot2\n",
      "library(ggplot2)\n",
      "p <- ggplot(df, aes(x=seq_along(x), y=x, colour=trt)) + geom_step()\n",
      "print(p)"
     ],
     "language": "python",
     "metadata": {},
     "outputs": [
      {
       "metadata": {},
       "output_type": "display_data",
       "png": "[encoded data removed]"
      }
     ],
     "prompt_number": 18
    },
    {
     "cell_type": "markdown",
     "metadata": {},
     "source": [
      "`geom_step()` defaults to `geom_step(direction=\"hv\")`.  The only alternative direction is \"vh\"."
     ]
    },
    {
     "cell_type": "code",
     "collapsed": false,
     "input": [
      "ggplot(df, aes(x=seq_along(x), y=x, colour=trt)) + geom_step(direction=\"vh\")"
     ],
     "language": "python",
     "metadata": {},
     "outputs": [
      {
       "metadata": {},
       "output_type": "pyout",
       "prompt_number": 19,
       "text": []
      },
      {
       "metadata": {},
       "output_type": "display_data",
       "png": "[encoded data removed]"
      }
     ],
     "prompt_number": 19
    },
    {
     "cell_type": "markdown",
     "metadata": {},
     "source": [
      "Now use Plotly to have your plot interactive, online, and drawn with D3.  Initialize a plotly object to sign in to your Plotly API account."
     ]
    },
    {
     "cell_type": "code",
     "collapsed": false,
     "input": [
      "library(plotly)\n",
      "py <- plotly(\"R-demos\", \"p9g4f35ytd\")"
     ],
     "language": "python",
     "metadata": {},
     "outputs": [],
     "prompt_number": 20
    },
    {
     "cell_type": "markdown",
     "metadata": {},
     "source": [
      "Call Plotly."
     ]
    },
    {
     "cell_type": "code",
     "collapsed": false,
     "input": [
      "py$ggplotly(p)"
     ],
     "language": "python",
     "metadata": {},
     "outputs": [],
     "prompt_number": 21
    },
    {
     "cell_type": "markdown",
     "metadata": {},
     "source": [
      "Go [online](https://plot.ly) and your most recent plot will be like the following."
     ]
    },
    {
     "cell_type": "code",
     "collapsed": false,
     "input": [
      "display_html(plotly_iframe(\"https://plot.ly/~R-demos/58/x-vs-seqalongx/\"))"
     ],
     "language": "python",
     "metadata": {},
     "outputs": [
      {
       "html": [
        "<iframe height=\"600\" id=\"igraph\" scrolling=\"no\" seamless=\"seamless\"\n",
        "\t\t\t\tsrc=\"https://plot.ly/~R-demos/58/x-vs-seqalongx/\" width=\"600\" frameBorder=\"0\"></iframe>"
       ],
       "metadata": {},
       "output_type": "display_data"
      }
     ],
     "prompt_number": 22
    },
    {
     "cell_type": "markdown",
     "metadata": {},
     "source": [
      "Let us use another shape!"
     ]
    },
    {
     "cell_type": "code",
     "collapsed": false,
     "input": [
      "# Consider a subset of the built-in Orange dataset\n",
      "oranges <- subset(Orange, Tree %in% c(1, 2))\n",
      "# Plot points and lines\n",
      "pp <- ggplot(oranges, aes(x=age, y=circumference,\n",
      "                          group=Tree, colour=factor(Tree))) +\n",
      "    geom_point() +\n",
      "    geom_step(direction=\"vhv\")"
     ],
     "language": "python",
     "metadata": {},
     "outputs": [],
     "prompt_number": 23
    },
    {
     "cell_type": "code",
     "collapsed": false,
     "input": [
      "print(pp)"
     ],
     "language": "python",
     "metadata": {},
     "outputs": [
      {
       "ename": "ERROR",
       "evalue": "Error: 'arg' should be one of \u201chv\u201d, \u201cvh\u201d\n",
       "output_type": "pyerr",
       "traceback": [
        "Error: 'arg' should be one of \u201chv\u201d, \u201cvh\u201d\n"
       ]
      }
     ],
     "prompt_number": 24
    },
    {
     "cell_type": "markdown",
     "metadata": {},
     "source": [
      "We cannot display this plot in R, because the \"vhv\" shape is not available.  But it is in Plotly!"
     ]
    },
    {
     "cell_type": "code",
     "collapsed": false,
     "input": [
      "py$ggplotly(pp)"
     ],
     "language": "python",
     "metadata": {},
     "outputs": [],
     "prompt_number": 25
    },
    {
     "cell_type": "code",
     "collapsed": false,
     "input": [
      "display_html(plotly_iframe(\"https://plot.ly/~R-demos/60/circumference-vs-age/\"))"
     ],
     "language": "python",
     "metadata": {},
     "outputs": [
      {
       "html": [
        "<iframe height=\"600\" id=\"igraph\" scrolling=\"no\" seamless=\"seamless\"\n",
        "\t\t\t\tsrc=\"https://plot.ly/~R-demos/60/circumference-vs-age/\" width=\"600\" frameBorder=\"0\"></iframe>"
       ],
       "metadata": {},
       "output_type": "display_data"
      }
     ],
     "prompt_number": 26
    },
    {
     "cell_type": "markdown",
     "metadata": {},
     "source": [
      "The growth of oranges is most likely a continuous process, so that is not the best example for showcasing steps!  Maybe you just want to use a line."
     ]
    },
    {
     "cell_type": "code",
     "collapsed": false,
     "input": [
      "ll <- ggplot(oranges, aes(x=age, y=circumference,\n",
      "                          group=Tree, colour=factor(Tree))) +\n",
      "    geom_point() +\n",
      "    geom_line()\n",
      "print(ll)"
     ],
     "language": "python",
     "metadata": {},
     "outputs": [
      {
       "metadata": {},
       "output_type": "display_data",
       "png": "[encoded data removed]"
      }
     ],
     "prompt_number": 27
    },
    {
     "cell_type": "markdown",
     "metadata": {},
     "source": [
      "Or maybe you want to use the spline shape!"
     ]
    },
    {
     "cell_type": "code",
     "collapsed": false,
     "input": [
      "pl <- ggplot(oranges, aes(x=age, y=circumference,\n",
      "                          group=Tree, colour=factor(Tree))) +\n",
      "    geom_point() +\n",
      "    geom_step(direction=\"spline\")\n",
      "py$ggplotly(pl)\n",
      "display_html(plotly_iframe(\"https://plot.ly/~R-demos/61/circumference-vs-age/\"))"
     ],
     "language": "python",
     "metadata": {},
     "outputs": [
      {
       "html": [
        "<iframe height=\"600\" id=\"igraph\" scrolling=\"no\" seamless=\"seamless\"\n",
        "\t\t\t\tsrc=\"https://plot.ly/~R-demos/61/circumference-vs-age/\" width=\"600\" frameBorder=\"0\"></iframe>"
       ],
       "metadata": {},
       "output_type": "display_data"
      }
     ],
     "prompt_number": 28
    },
    {
     "cell_type": "markdown",
     "metadata": {},
     "source": [
      "Or maybe not...  You expect size to be a monotonically increasing function of time if these oranges are growing (not rotting yet)."
     ]
    },
    {
     "cell_type": "code",
     "collapsed": false,
     "input": [],
     "language": "python",
     "metadata": {},
     "outputs": []
    }
   ],
   "metadata": {}
  }
 ]
}